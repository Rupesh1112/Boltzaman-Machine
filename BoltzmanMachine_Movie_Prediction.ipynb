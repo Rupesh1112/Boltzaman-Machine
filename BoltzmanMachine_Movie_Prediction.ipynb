{
 "cells": [
  {
   "cell_type": "markdown",
   "metadata": {},
   "source": [
    "Unsupervised Learning: Bolztman Machine\n"
   ]
  },
  {
   "cell_type": "code",
   "execution_count": 1,
   "metadata": {},
   "outputs": [],
   "source": [
    "#Develope Recommend System using Boltzman Machine\n",
    "#We will here develope 2 recommend systems using Boltzman machine and autoencoders\n",
    "#1. If user is going to like the movie (yes or no)\n",
    "#2. Rating by the user for the movie (on a scale 1 to 5)\n",
    "#Dataset: MovieLens data set (website: grouplens.org/datasets/movielens/) \n",
    "\n",
    "#STEP 1: Data Preprocessing will be same for both Boltzman Machine as well as Autoencoders\n"
   ]
  },
  {
   "cell_type": "code",
   "execution_count": 2,
   "metadata": {},
   "outputs": [],
   "source": [
    "# 1. Importing Libraries\n",
    "import numpy as np\n",
    "import pandas as pd\n",
    "import matplotlib.pyplot as plt\n",
    "import torch\n",
    "import torch.nn as nn    #To implement Neural Network\n",
    "import torch.nn.parallel #Parallel Computations\n",
    "import torch.optim as optim #Optimizer\n",
    "import torch.utils.data  \n",
    "from torch.autograd import Variable  #Schocastic gradient descent"
   ]
  },
  {
   "cell_type": "code",
   "execution_count": 3,
   "metadata": {},
   "outputs": [],
   "source": [
    "# 2. Importing Dataset\n",
    "#Dataset is not that simple so that some new technique to be used\n",
    "#Here data is not seperated by comas as movie name itself can contain coma, thus in dataset it is seperated by '::'\n",
    "#Movie name also might contain special characters and thus encoding is to specified\n",
    "#Movie names and their features are in movies.dat(Movie ID, Movie Name, Genre)\n",
    "#User information is in users.dat(user ID, Gender, Age, User's job code and Visit Code)\n",
    "#Ratings.dat contains (User ID, Movie ID, Movie Rating, Time when rating given(not useful))\n",
    "movies  = pd.read_csv('ml-1m/movies.dat', sep = '::', header = None, engine = 'python', encoding = 'latin-1') #header means coloumn name(here not available thus None)\n",
    "users   = pd.read_csv('ml-1m/users.dat', sep = '::', header = None, engine = 'python', encoding = 'latin-1')\n",
    "ratings = pd.read_csv('ml-1m/ratings.dat', sep = '::', header = None, engine = 'python', encoding = 'latin-1')"
   ]
  },
  {
   "cell_type": "code",
   "execution_count": 4,
   "metadata": {},
   "outputs": [],
   "source": [
    "# 3. Preparing Training and Testing Set\n",
    "# We already have 5 training and test set available in another folder ml-100k\n",
    "# 1 of the 5 will be used here\n",
    "# First import it as pandas dataframe and then covert to array as we work on array\n",
    "# Here the data is seperated using tab and thus mention it in delimiter\n",
    "training_set = pd.read_csv('ml-100k/u1.base', delimiter = '\\t')  #80 %\n",
    "test_set = pd.read_csv('ml-100k/u1.test', delimiter = '\\t')      #20 %\n",
    "\n",
    "#Convert it into arrays to work with pytorch\n",
    "training_set = np.array(training_set, dtype = 'int')\n",
    "test_set = np.array(test_set, dtype = 'int')"
   ]
  },
  {
   "cell_type": "code",
   "execution_count": 5,
   "metadata": {},
   "outputs": [
    {
     "name": "stdout",
     "output_type": "stream",
     "text": [
      "943\n"
     ]
    }
   ],
   "source": [
    "# 4. Getting the number of users and movies\n",
    "# We need to extract this because we need to create matrices with same number of users and same number of movies later\n",
    "# Such that User --> Movie --> Rating such 3 coloumns will be there\n",
    "# If user has not rated any of the movie then put 0 as rating\n",
    "# int is used to avoid getting array\n",
    "# We dont know maximum ID is in training or test set , thus both are to be checked\n",
    "nb_users  = int(max(max(training_set[:,0]), max(test_set[:,0])))  #User numbers are nothing but highest number in User ID coloumn\n",
    "nb_movies = int(max(max(training_set[:,1]), max(test_set[:,1])))\n",
    "print(nb_users)"
   ]
  },
  {
   "cell_type": "code",
   "execution_count": 6,
   "metadata": {},
   "outputs": [],
   "source": [
    "# 5. Converts the data into an array with users in lines and movies in columns\n",
    "# That is nothing but we have to create matrix with obervations (users) in rows and features (movies) in coloumns as required for NN\n",
    "# Create function for this.\n",
    "# Instead of creating 2D numpy array, we will create list of list so as to apply torch\n",
    "# That is we will have nb_users number of lists \n",
    "# [] initializes list\n",
    "new_data = []\n",
    "\n",
    "def convert(data):\n",
    "    for id_users in range(1, nb_users+1):\n",
    "        id_movies = data[:, 1][data[:, 0] == id_users]  #This will give movie IDs which user id_users has rated\n",
    "        id_ratings = data[:, 2][data[:, 0] == id_users] #This will give all the ratings of that user\n",
    "        ratings = np.zeros(nb_movies)                 #Create list with all movies rated zeros \n",
    "        ratings[id_movies - 1] = id_ratings           #Add ratings for the movies given by users\n",
    "        new_data.append(list(ratings))                #Create list of list using append\n",
    "    return new_data\n",
    "\n",
    "#Apply the above defined convert function on training and testing set\n",
    "training_set = convert(training_set)\n",
    "test_set = convert(test_set)"
   ]
  },
  {
   "cell_type": "code",
   "execution_count": 7,
   "metadata": {},
   "outputs": [],
   "source": [
    "# 6. Converting the data into Torch Tensors\n",
    "# Tensors are multidimensional array with same data type\n",
    "training_set = torch.FloatTensor(training_set)\n",
    "test_set = torch.FloatTensor(test_set)"
   ]
  },
  {
   "cell_type": "code",
   "execution_count": 8,
   "metadata": {},
   "outputs": [],
   "source": [
    "# STEP 2: RESTRICTED BOLTZMAN MACHINE\n",
    "# Further steps are now specific to restricted boltzman machine\n",
    "# 7. Converting the ratings into binary ratings (1 liked or 0 not-liked)\n",
    "# Replace all the zeros by -1\n",
    "training_set[training_set == 0] = -1\n",
    "\n",
    "# Assume the ratings 1 and 2 represents user didn't liked the movie \n",
    "# Replace all the 1 and 2 ratings with 0\n",
    "training_set[training_set == 1] = 0\n",
    "training_set[training_set == 2] = 0\n",
    "\n",
    "# Replace all retings higher than 2 with 1\n",
    "training_set[training_set >= 3] = 1\n",
    "\n",
    "# Apply same for test set\n",
    "test_set[test_set == 0] = -1\n",
    "test_set[test_set == 1] = 0\n",
    "test_set[test_set == 2] = 0\n",
    "test_set[test_set >= 0] = 1"
   ]
  },
  {
   "cell_type": "code",
   "execution_count": 9,
   "metadata": {},
   "outputs": [],
   "source": [
    "# 8. Creating the architecture of the Neural Network (Restricted Boltzman Machine)\n",
    "# Define the classs and 3 function (Initialization, )\n",
    "class RBM():\n",
    "    #First Function\n",
    "    def __init__(self, nv, nh):  # nv-->Number of visible nodes and nh--> Number of hidden nodes & self is by default\n",
    "        # Randomly Initialize all the parameters required for RBM i.e., weights and bias\n",
    "        # Weights W are nothing but probabilities of visible node given hidden nodes thus W is matrix of size nh*nv\n",
    "        # Bias are in both direction hidden <--> visible\n",
    "        # One bias for each hidden node\n",
    "        # Torch library doesn't accept a single vector and thus whenever required defined as a matrix with one fake size = 1\n",
    "        self.W = torch.randn(nh, nv) #The tensor with random values according to normal distribution with mean 0 and var 1\n",
    "        self.a = torch.randn(1, nh)  #Bias for probabilities of hidden nodes given visible node\n",
    "        self.b = torch.randn(1, nv)  #Bias for probabilities of visible nodes given hidden node\n",
    "    \n",
    "    # Sampling hidden nodes according to probabilities P(h when given v)\n",
    "    # Gibs sampling is used \n",
    "    def sample_h(self, x):        # x corresponds to visible neurons v in the probabilities Ph given v\n",
    "        # 1. Probability of h given v, i.e., probability that hidden neuron equals one given values of visible neurons\n",
    "        # Visible neurons are nothing but the inout vector of observations with all the ratings\n",
    "        # This probability of h given v is nothing but sigmoid activation function applied to W times x plus bias (a)\n",
    "        wx = torch.mm(x, self.W.t())\n",
    "        activation  = wx + self.a.expand_as(wx) #expand_as() is applied to ensure bias is applied toe ach line of the batch\n",
    "        p_h_given_v = torch.sigmoid(activation) #This gives probability of the hidden node activated when visible node given\n",
    "        # We will return these probabilities as well as the vector speciying which hidden is activateed and which is not\n",
    "        # We will deicide it using some threshold probability value and assign 0 or 1 accordingly using bernouli function\n",
    "        return p_h_given_v, torch.bernoulli(p_h_given_v)\n",
    "    \n",
    "    # Similar function for visible node activation probability\n",
    "    # Each visible node is nothing but one movie\n",
    "    def sample_v(self, y):         # y corresponds to values of hidden nodes\n",
    "        wy = torch.mm(y, self.W)                # no need of transpose here ; plz check matrix size\n",
    "        activation  = wy + self.b.expand_as(wy) # a is replaced by b\n",
    "        p_v_given_h = torch.sigmoid(activation)\n",
    "        return p_v_given_h, torch.bernoulli(p_v_given_h)\n",
    "    \n",
    "    # Last function: Contrastive Divergence\n",
    "    # Here we approximate the RBM log-likelihood gradient\n",
    "    # The RBM is Energy Based Model and also can be seen as probabilistic model and here we need to maximize the liklihood\n",
    "    # To calculate maximum likelihood we need to compute the gradient\n",
    "    # Gradientcomputation here is very heavy and thus we try to approximate it\n",
    "    def train(self, v0, vk, ph0, phk):\n",
    "        #v0 = Input vector (ratings of all the movies by one user)\n",
    "        #vk = Visible nodes obtained after k samplings (that is k iterations and k conrastive divergences)  \n",
    "        #pho = vectors of probabilities that at 1st iteration the hidden nodes equal to 1 given v0\n",
    "        #phk = vectors of probabilities that at kth iteration the hidden nodes equal to 1 given vk\n",
    "        \n",
    "        # 1. Weights Update\n",
    "        self.W += (torch.mm(v0.t(), ph0) - torch.mm(vk.t(), phk)).t()\n",
    "        \n",
    "        # 2. Bias b Update\n",
    "        self.b += torch.sum((v0 - vk), 0)\n",
    "        \n",
    "        # 3. Bias a Update\n",
    "        self.a += torch.sum((ph0 - phk), 0)\n",
    "        \n",
    "# Now our RBM class is ready and now we can train many models with different parameters        "
   ]
  },
  {
   "cell_type": "code",
   "execution_count": 10,
   "metadata": {},
   "outputs": [],
   "source": [
    "# 9. Create 1st RBM object\n",
    "\n",
    "# nv is nothing but number of visible nodes that is here the number of movies\n",
    "nv = len(training_set[0])\n",
    "\n",
    "# nh is the tunable parameter that we can use anything for improvement of the model\n",
    "# Actually number of hidden nodes are the number of feaetures we want to detect\n",
    "nh = 100\n",
    "\n",
    "# Batch size is also the tunable parameter which is nothing but after how many obervations the weights to be updated\n",
    "batch_size = 100\n",
    "\n",
    "# Create RBM object\n",
    "rbm = RBM(nv, nh)\n",
    "\n",
    "# Thus now our RBM model is created, now we want to train it"
   ]
  },
  {
   "cell_type": "code",
   "execution_count": 11,
   "metadata": {},
   "outputs": [
    {
     "name": "stdout",
     "output_type": "stream",
     "text": [
      "epoch: 1 loss: tensor(0.3460)\n",
      "epoch: 2 loss: tensor(0.1634)\n",
      "epoch: 3 loss: tensor(0.1441)\n",
      "epoch: 4 loss: tensor(0.1549)\n",
      "epoch: 5 loss: tensor(0.1516)\n",
      "epoch: 6 loss: tensor(0.1476)\n",
      "epoch: 7 loss: tensor(0.1540)\n",
      "epoch: 8 loss: tensor(0.1494)\n",
      "epoch: 9 loss: tensor(0.1508)\n",
      "epoch: 10 loss: tensor(0.1470)\n"
     ]
    }
   ],
   "source": [
    "# 10. Training the RBM\n",
    "# We have to input other parameters required by RBM class\n",
    "\n",
    "# Number of epochs is tunable parameter\n",
    "nb_epoch = 10\n",
    "for epoch in range(1, nb_epoch + 1):\n",
    "    # 1. Loss Function:\n",
    "    train_loss = 0   #initialize to zero\n",
    "    s = 0.           # Counter for normalize the train loss for dividing it\n",
    "    \n",
    "    # Get batches of users for training as we want to update weights after each batch\n",
    "    for id_user in range(0, nb_users - batch_size, batch_size):  # Batches like 0-99, 100-199,.......,799-843\n",
    "        vk = training_set[id_user:id_user + batch_size]          # Target\n",
    "        v0 = training_set[id_user:id_user + batch_size]          # Input\n",
    "        ph0,_ = rbm.sample_h(v0)                                 # Initial Probabilities givevn the visible node\n",
    "        for k in range(10):                                      # K times contactive divergence (Gibbs Sampling)\n",
    "            # In begining, we start with initial ratings for the batch users\n",
    "            # Then sample first hidden nodes using bernouli's sampling using PH given v0 distribution(sample_h)\n",
    "            _,hk = rbm.sample_h(vk)                              # hk = sampled hidden nodes obtained at Kth step of contrastive divergence\n",
    "            _,vk = rbm.sample_v(hk)                                              # vk = sampled visible nodes \"                  \"\n",
    "            # Now approximate the gradient using updated vk\n",
    "            # Before that, remember the fact that we dont want to learn where ther is no rating (user hasnt given rating, i.e., -1 rating in v-0)\n",
    "            vk[v0<0] = v0[v0<0]                                  # So we have given these nodes value again equal to -1\n",
    "         \n",
    "        phk,_ = rbm.sample_h(vk)\n",
    "        \n",
    "        # Update the weights sing train function defined above\n",
    "        rbm.train(v0, vk, ph0, phk)\n",
    "        \n",
    "        # Update the train loss(difference between predicted and original raatings)\n",
    "        train_loss += torch.mean(torch.abs(v0[v0>0] - vk[v0>0]))\n",
    "        s += 1.                                                   # Counter\n",
    "    print('epoch: '+str(epoch) + ' loss: '+str(train_loss/s))    \n",
    "        \n",
    "            "
   ]
  },
  {
   "cell_type": "code",
   "execution_count": 12,
   "metadata": {},
   "outputs": [
    {
     "name": "stdout",
     "output_type": "stream",
     "text": [
      "test_loss: tensor(0.2016)\n"
     ]
    }
   ],
   "source": [
    "# 11. Testing the RBM using above trained trainined model\n",
    "test_loss = 0\n",
    "s = 0.\n",
    "for id_user in range (nb_users):\n",
    "    v  = training_set[id_user: id_user + 1]           #This will remain a training set for predicting the test results\n",
    "    vt = test_set[id_user:id_user+1]     #Actual Target\n",
    "    if len(vt[vt>0]) > 0:\n",
    "        _, h = rbm.sample_h(v)\n",
    "        _, v = rbm.sample_v(h)\n",
    "    test_loss += torch.mean(torch.abs(vt[vt>0] - v[vt>0]))\n",
    "    s += 1.\n",
    "print('test_loss: '+str(test_loss/s))    "
   ]
  },
  {
   "cell_type": "code",
   "execution_count": null,
   "metadata": {},
   "outputs": [],
   "source": []
  }
 ],
 "metadata": {
  "kernelspec": {
   "display_name": "Python 3",
   "language": "python",
   "name": "python3"
  },
  "language_info": {
   "codemirror_mode": {
    "name": "ipython",
    "version": 3
   },
   "file_extension": ".py",
   "mimetype": "text/x-python",
   "name": "python",
   "nbconvert_exporter": "python",
   "pygments_lexer": "ipython3",
   "version": "3.7.7"
  }
 },
 "nbformat": 4,
 "nbformat_minor": 4
}
